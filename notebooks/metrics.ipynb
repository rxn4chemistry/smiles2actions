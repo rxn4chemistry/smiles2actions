{
 "cells": [
  {
   "cell_type": "code",
   "execution_count": null,
   "metadata": {},
   "outputs": [],
   "source": [
    "import os\n",
    "import re\n",
    "from pathlib import Path\n",
    "from typing import Set, List"
   ]
  },
  {
   "cell_type": "code",
   "execution_count": null,
   "metadata": {},
   "outputs": [],
   "source": [
    "from paragraph2actions.action_string_converter import ReadableConverter\n",
    "from paragraph2actions.analysis import (\n",
    "    full_sentence_accuracy, original_bleu, partial_accuracy, levenshtein_similarity\n",
    ")"
   ]
  },
  {
   "cell_type": "code",
   "execution_count": null,
   "metadata": {
    "lines_to_next_cell": 2
   },
   "outputs": [],
   "source": [
    "from smiles2actions.utils import ReactionEquation, load_list_from_file, detokenize_smiles"
   ]
  },
  {
   "cell_type": "markdown",
   "metadata": {
    "lines_to_next_cell": 2
   },
   "source": [
    "### Useful functions"
   ]
  },
  {
   "cell_type": "code",
   "execution_count": null,
   "metadata": {},
   "outputs": [],
   "source": [
    "def expected_placeholders_for_src(src_line: str) -> Set[str]:\n",
    "    \"\"\"function to get the expected placeholders for the reaction equations\"\"\"\n",
    "    smiles = detokenize_smiles(src_line)\n",
    "    reaction_equation = ReactionEquation.from_string(reaction_string=smiles, fragment_bond='~')\n",
    "    expected_precursors = [f'${index + 1}$' for index in range(len(reaction_equation.reactants))]\n",
    "    expected_products = [f'$-{index + 1}$' for index in range(len(reaction_equation.products))]\n",
    "    return set(expected_precursors + expected_products)"
   ]
  },
  {
   "cell_type": "code",
   "execution_count": null,
   "metadata": {},
   "outputs": [],
   "source": [
    "converter = ReadableConverter(separator=' ; ', end_mark='')"
   ]
  },
  {
   "cell_type": "code",
   "execution_count": null,
   "metadata": {},
   "outputs": [],
   "source": [
    "def validity(expected_placeholders_lists: List[Set[str]], preds: List[str]) -> float:\n",
    "    \"\"\"Calculate the validity of predictions.\n",
    "\n",
    "    Will check:\n",
    "    1) The compound tokens for the SMILES are present\n",
    "    2) valid conversion to actions\n",
    "    .\"\"\"\n",
    "    assert len(expected_placeholders_lists) == len(preds)\n",
    "    n_samples = len(preds)\n",
    "    valid_samples = 0\n",
    "    for placeholders, pred in zip(expected_placeholders_lists, preds):\n",
    "        valid = True\n",
    "        # Check that all the expected placeholders are there\n",
    "        for placeholder in placeholders:\n",
    "            if not re.search(re.escape(placeholder), pred):\n",
    "                valid = False\n",
    "        # Check that the actions can be converted\n",
    "        try:\n",
    "            converter.string_to_actions(pred)\n",
    "        except Exception:\n",
    "            valid = False\n",
    "        if valid:\n",
    "            valid_samples += 1\n",
    "    return valid_samples / n_samples"
   ]
  },
  {
   "cell_type": "markdown",
   "metadata": {},
   "source": [
    "### File location"
   ]
  },
  {
   "cell_type": "code",
   "execution_count": null,
   "metadata": {},
   "outputs": [],
   "source": [
    "s2a_dir = Path(os.environ['S2A_PAPER_DATA_DIR'])\n",
    "src_file = str(s2a_dir / 'src-test.txt')\n",
    "tgt_file = str(s2a_dir / 'tgt-test.txt')"
   ]
  },
  {
   "cell_type": "code",
   "execution_count": null,
   "metadata": {},
   "outputs": [],
   "source": [
    "transformer_file = str(s2a_dir / 'transformer_test.txt')\n",
    "bart_file = str(s2a_dir / 'bart_test.txt')\n",
    "nn_file = str(s2a_dir / 'nn_test.txt')\n",
    "random_file = str(s2a_dir / 'random_test.txt')\n",
    "random_same_length_file = str(s2a_dir / 'random_same_smiles_length_test.txt')"
   ]
  },
  {
   "cell_type": "markdown",
   "metadata": {},
   "source": [
    "### Computation"
   ]
  },
  {
   "cell_type": "code",
   "execution_count": null,
   "metadata": {},
   "outputs": [],
   "source": [
    "models = [\n",
    "    (tgt_file, 'ground truth'),\n",
    "    (transformer_file, 'transformer'),\n",
    "    (bart_file, 'bart'),\n",
    "    (nn_file, 'nearest-neighbor'),\n",
    "    (random_file, 'random'),\n",
    "    (random_same_length_file, 'random (same SMILES size)'),\n",
    "]"
   ]
  },
  {
   "cell_type": "code",
   "execution_count": null,
   "metadata": {},
   "outputs": [],
   "source": [
    "model_names = [model[1] for model in models]\n",
    "model_paths = [model[0] for model in models]"
   ]
  },
  {
   "cell_type": "code",
   "execution_count": null,
   "metadata": {},
   "outputs": [],
   "source": [
    "truth = load_list_from_file(tgt_file)\n",
    "data = [load_list_from_file(model_path) for model_path in model_paths]"
   ]
  },
  {
   "cell_type": "code",
   "execution_count": null,
   "metadata": {},
   "outputs": [],
   "source": [
    "src = load_list_from_file(src_file)\n",
    "expected_placeholders = [expected_placeholders_for_src(src_line) for src_line in src]"
   ]
  },
  {
   "cell_type": "code",
   "execution_count": null,
   "metadata": {},
   "outputs": [],
   "source": [
    "for model_name, pred in zip(model_names, data):\n",
    "    print(model_name)\n",
    "    print(' - validity', validity(expected_placeholders, pred))\n",
    "    print(' - full-sentence accuracy', full_sentence_accuracy(truth, pred))\n",
    "    print(' - original BLEU', original_bleu(truth, pred))\n",
    "    print(' - Levenshtein', levenshtein_similarity(truth, pred))\n",
    "    print(' - 100% accuracy', partial_accuracy(truth, pred, 1.0))\n",
    "    print(' - 90% accuracy', partial_accuracy(truth, pred, 0.9))\n",
    "    print(' - 75% accuracy', partial_accuracy(truth, pred, 0.75))\n",
    "    print(' - 50% accuracy', partial_accuracy(truth, pred, 0.5))"
   ]
  }
 ],
 "metadata": {
  "jupytext": {
   "cell_metadata_filter": "-all",
   "formats": "py,ipynb"
  },
  "kernelspec": {
   "display_name": "Python 3",
   "language": "python",
   "name": "python3"
  },
  "language_info": {
   "codemirror_mode": {
    "name": "ipython",
    "version": 3
   },
   "file_extension": ".py",
   "mimetype": "text/x-python",
   "name": "python",
   "nbconvert_exporter": "python",
   "pygments_lexer": "ipython3",
   "version": "3.6.12"
  }
 },
 "nbformat": 4,
 "nbformat_minor": 4
}
