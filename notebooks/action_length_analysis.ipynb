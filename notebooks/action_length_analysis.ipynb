{
 "cells": [
  {
   "cell_type": "code",
   "execution_count": null,
   "metadata": {},
   "outputs": [],
   "source": [
    "import os\n",
    "from collections import Counter\n",
    "from pathlib import Path\n",
    "from typing import List, Tuple"
   ]
  },
  {
   "cell_type": "code",
   "execution_count": null,
   "metadata": {},
   "outputs": [],
   "source": [
    "import matplotlib.pyplot as plt\n",
    "import numpy as np\n",
    "import textdistance\n",
    "from paragraph2actions.action_string_converter import ReadableConverter\n",
    "from smiles2actions.utils import load_list_from_file, colorblind_color_palette"
   ]
  },
  {
   "cell_type": "markdown",
   "metadata": {},
   "source": [
    "# Analysis of action lengths\n",
    "\n",
    "Notebook for:\n",
    "* Creating plots for distribution of action lengths\n",
    "* Calculating the single-action accuracy"
   ]
  },
  {
   "cell_type": "markdown",
   "metadata": {},
   "source": [
    "### Useful functions"
   ]
  },
  {
   "cell_type": "code",
   "execution_count": null,
   "metadata": {},
   "outputs": [],
   "source": [
    "converter = ReadableConverter(separator=' ; ', end_mark='')"
   ]
  },
  {
   "cell_type": "code",
   "execution_count": null,
   "metadata": {},
   "outputs": [],
   "source": [
    "def action_length(actions_str: str) -> int:\n",
    "    \"\"\"Get the number of actions for an action string.\"\"\"\n",
    "    return len(converter.string_to_actions(actions_str))"
   ]
  },
  {
   "cell_type": "code",
   "execution_count": null,
   "metadata": {},
   "outputs": [],
   "source": [
    "def action_lengths(actions: List[str]) -> List[int]:\n",
    "    \"\"\"Get the number of actions for multiple action strings.\"\"\"\n",
    "    lengths = []\n",
    "    for actions_str in actions:\n",
    "        try:\n",
    "            lengths.append(action_length(actions_str))\n",
    "        except Exception:\n",
    "            pass\n",
    "    return lengths"
   ]
  },
  {
   "cell_type": "markdown",
   "metadata": {},
   "source": [
    "### File location"
   ]
  },
  {
   "cell_type": "code",
   "execution_count": null,
   "metadata": {},
   "outputs": [],
   "source": [
    "s2a_dir = Path(os.environ['S2A_PAPER_DATA_DIR'])\n",
    "src_file = str(s2a_dir / 'src-test.txt')\n",
    "tgt_file = str(s2a_dir / 'tgt-test.txt')"
   ]
  },
  {
   "cell_type": "code",
   "execution_count": null,
   "metadata": {},
   "outputs": [],
   "source": [
    "transformer_file = str(s2a_dir / 'transformer_test.txt')\n",
    "bart_file = str(s2a_dir / 'bart_test.txt')\n",
    "nn_file = str(s2a_dir / 'nn_test.txt')"
   ]
  },
  {
   "cell_type": "markdown",
   "metadata": {},
   "source": [
    "### Distribution of action lengths for the different models"
   ]
  },
  {
   "cell_type": "code",
   "execution_count": null,
   "metadata": {},
   "outputs": [],
   "source": [
    "models = [\n",
    "    (tgt_file, 'Ground truth'),\n",
    "    (nn_file, 'Nearest-neighbor model'),\n",
    "    (bart_file, 'BART model'),\n",
    "    (transformer_file, 'transformer model'),\n",
    "]"
   ]
  },
  {
   "cell_type": "code",
   "execution_count": null,
   "metadata": {},
   "outputs": [],
   "source": [
    "model_names = [model[1] for model in models]\n",
    "model_paths = [model[0] for model in models]"
   ]
  },
  {
   "cell_type": "code",
   "execution_count": null,
   "metadata": {},
   "outputs": [],
   "source": [
    "data = [load_list_from_file(model_path) for model_path in model_paths]"
   ]
  },
  {
   "cell_type": "code",
   "execution_count": null,
   "metadata": {},
   "outputs": [],
   "source": [
    "prediction_lengths = [action_lengths(d) for d in data]"
   ]
  },
  {
   "cell_type": "code",
   "execution_count": null,
   "metadata": {},
   "outputs": [],
   "source": [
    "print([len(p) for p in prediction_lengths])"
   ]
  },
  {
   "cell_type": "code",
   "execution_count": null,
   "metadata": {},
   "outputs": [],
   "source": [
    "ind = np.arange(5, 26)"
   ]
  },
  {
   "cell_type": "code",
   "execution_count": null,
   "metadata": {},
   "outputs": [],
   "source": [
    "fig, ax = plt.subplots(nrows=1, ncols=1, figsize=(14, 5))\n",
    "ax.hist(\n",
    "    prediction_lengths,\n",
    "    ind,\n",
    "    label=model_names,\n",
    "    color=colorblind_color_palette(len(prediction_lengths))\n",
    ")\n",
    "ax.legend(loc='upper right')\n",
    "ax.set_xlabel('Number of actions')\n",
    "ax.set_ylabel('Count')\n",
    "ax.set_xticks(ind + 0.5)\n",
    "ax.set_xticklabels(ind)\n",
    "ax.margins(x=0.02)\n",
    "fig.tight_layout()\n",
    "plt.savefig('/tmp/sequence_length.pdf')"
   ]
  },
  {
   "cell_type": "markdown",
   "metadata": {},
   "source": [
    "## Accuracy histogram\n",
    "\n",
    "Plot the histogram for lenghts depending on the accuracy"
   ]
  },
  {
   "cell_type": "code",
   "execution_count": null,
   "metadata": {},
   "outputs": [],
   "source": [
    "lengths_for_accuracies: List[Tuple[float, List[int]]] = [\n",
    "    (1.0, []),\n",
    "    (0.75, []),\n",
    "    (0.5, []),\n",
    "]"
   ]
  },
  {
   "cell_type": "code",
   "execution_count": null,
   "metadata": {},
   "outputs": [],
   "source": [
    "# We are interested in the ground truth and in the transformer model\n",
    "gt_index = 0\n",
    "transformer_index = 3\n",
    "assert model_names[gt_index] == 'Ground truth'\n",
    "assert model_names[transformer_index] == 'transformer model'"
   ]
  },
  {
   "cell_type": "code",
   "execution_count": null,
   "metadata": {},
   "outputs": [],
   "source": [
    "for gt, pred in zip(data[gt_index], data[transformer_index]):\n",
    "    n_actions = action_length(pred)\n",
    "    similarity = textdistance.levenshtein.normalized_similarity(gt, pred)\n",
    "    for key, value in lengths_for_accuracies:\n",
    "        if similarity >= key:\n",
    "            value.append(n_actions)"
   ]
  },
  {
   "cell_type": "code",
   "execution_count": null,
   "metadata": {},
   "outputs": [],
   "source": [
    "print('Number of action sequences fulfilling thresholds:')\n",
    "for key, value in lengths_for_accuracies:\n",
    "    print(key, len(value))"
   ]
  },
  {
   "cell_type": "code",
   "execution_count": null,
   "metadata": {},
   "outputs": [],
   "source": [
    "accuracies_lengths = [d[1] for d in lengths_for_accuracies]"
   ]
  },
  {
   "cell_type": "code",
   "execution_count": null,
   "metadata": {},
   "outputs": [],
   "source": [
    "accuracies_lengths[0:0] = [prediction_lengths[transformer_index]]\n",
    "accuracies_lengths.append(prediction_lengths[gt_index])\n",
    "accuracies_labels = ['All predictions'] + [\n",
    "    f'Predictions with {int(d[0]*100)}% accuracy' for d in lengths_for_accuracies\n",
    "] + ['Ground truth']"
   ]
  },
  {
   "cell_type": "code",
   "execution_count": null,
   "metadata": {},
   "outputs": [],
   "source": [
    "print(accuracies_lengths[1][:5])"
   ]
  },
  {
   "cell_type": "code",
   "execution_count": null,
   "metadata": {},
   "outputs": [],
   "source": [
    "ind = np.arange(5, 26)"
   ]
  },
  {
   "cell_type": "code",
   "execution_count": null,
   "metadata": {},
   "outputs": [],
   "source": [
    "fig, ax = plt.subplots(nrows=1, ncols=1, figsize=(14, 5))\n",
    "ax.hist(\n",
    "    accuracies_lengths,\n",
    "    ind,\n",
    "    label=accuracies_labels,\n",
    "    density=True,\n",
    "    color=colorblind_color_palette(len(accuracies_lengths))\n",
    ")\n",
    "ax.legend(loc='upper right')\n",
    "ax.set_xlabel('Number of actions')\n",
    "ax.set_ylabel('Frequency')\n",
    "ax.set_xticks(ind + 0.5)\n",
    "ax.set_xticklabels(ind)\n",
    "ax.margins(x=0.02)\n",
    "fig.tight_layout()\n",
    "plt.savefig('/tmp/accuracy_histogram.pdf')"
   ]
  },
  {
   "cell_type": "markdown",
   "metadata": {},
   "source": [
    "## Single action accuracy\n",
    "\n",
    "Starting from the full-sequence accuracy, one can calculate back the single-sequence accuracy from a probabilistic perspective (for illustrative purposes)."
   ]
  },
  {
   "cell_type": "code",
   "execution_count": null,
   "metadata": {},
   "outputs": [],
   "source": [
    "## Polynomial solving\n",
    "gt_lengths = prediction_lengths[0]\n",
    "gt_number = len(data[0])\n",
    "cntr = Counter(gt_lengths)\n",
    "max_idx = max(cntr.keys())\n",
    "correct_preds = len(lengths_for_accuracies[0][1])\n",
    "correct_preds_freq = correct_preds / gt_number"
   ]
  },
  {
   "cell_type": "code",
   "execution_count": null,
   "metadata": {},
   "outputs": [],
   "source": [
    "# [max_idx, max_idx-1, ..., 1, 0]\n",
    "indices = list(range(max_idx, -1, -1))\n",
    "coefficients = [cntr[idx] for idx in indices]\n",
    "coefficients[-1] = -correct_preds"
   ]
  },
  {
   "cell_type": "code",
   "execution_count": null,
   "metadata": {},
   "outputs": [],
   "source": [
    "p = np.poly1d(coefficients)\n",
    "print(np.poly1d(p))"
   ]
  },
  {
   "cell_type": "code",
   "execution_count": null,
   "metadata": {},
   "outputs": [],
   "source": [
    "# The roots - the last one is of interest\n",
    "print(p.r)"
   ]
  }
 ],
 "metadata": {
  "jupytext": {
   "cell_metadata_filter": "-all",
   "formats": "py,ipynb"
  },
  "kernelspec": {
   "display_name": "Python 3",
   "language": "python",
   "name": "python3"
  },
  "language_info": {
   "codemirror_mode": {
    "name": "ipython",
    "version": 3
   },
   "file_extension": ".py",
   "mimetype": "text/x-python",
   "name": "python",
   "nbconvert_exporter": "python",
   "pygments_lexer": "ipython3",
   "version": "3.6.12"
  }
 },
 "nbformat": 4,
 "nbformat_minor": 4
}
