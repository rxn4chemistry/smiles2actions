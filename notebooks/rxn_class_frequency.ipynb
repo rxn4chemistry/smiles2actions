{
 "cells": [
  {
   "cell_type": "code",
   "execution_count": null,
   "metadata": {},
   "outputs": [],
   "source": [
    "import os\n",
    "import typing\n",
    "from collections import Counter\n",
    "from pathlib import Path\n",
    "from typing import Dict, List, Any"
   ]
  },
  {
   "cell_type": "code",
   "execution_count": null,
   "metadata": {},
   "outputs": [],
   "source": [
    "import matplotlib.pyplot as plt\n",
    "import numpy as np\n",
    "import pandas as pd\n",
    "import seaborn as sns"
   ]
  },
  {
   "cell_type": "code",
   "execution_count": null,
   "metadata": {},
   "outputs": [],
   "source": [
    "from smiles2actions.utils import load_list_from_file"
   ]
  },
  {
   "cell_type": "code",
   "execution_count": null,
   "metadata": {},
   "outputs": [],
   "source": [
    "%matplotlib inline"
   ]
  },
  {
   "cell_type": "markdown",
   "metadata": {},
   "source": [
    "# Analyze reaction class frequencies between original Pistachio and S2A dataset\n",
    "\n",
    "### Load data"
   ]
  },
  {
   "cell_type": "code",
   "execution_count": null,
   "metadata": {},
   "outputs": [],
   "source": [
    "s2a_dir = Path(os.environ['S2A_PAPER_DATA_DIR'])"
   ]
  },
  {
   "cell_type": "code",
   "execution_count": null,
   "metadata": {},
   "outputs": [],
   "source": [
    "original_classes = load_list_from_file(s2a_dir / 'rxn_classes_original_data.txt')\n",
    "dataset_classes = load_list_from_file(s2a_dir / 'rxn_classes_unique.txt')"
   ]
  },
  {
   "cell_type": "code",
   "execution_count": null,
   "metadata": {},
   "outputs": [],
   "source": [
    "s2a_class_counts = Counter(dataset_classes)\n",
    "pis_class_counts = Counter(original_classes)\n",
    "s2a_total_count = sum(s2a_class_counts.values())\n",
    "pis_total_count = sum(pis_class_counts.values())"
   ]
  },
  {
   "cell_type": "markdown",
   "metadata": {
    "lines_to_next_cell": 2
   },
   "source": [
    "### Functionality to get pandas DataFrames"
   ]
  },
  {
   "cell_type": "code",
   "execution_count": null,
   "metadata": {},
   "outputs": [],
   "source": [
    "def merge_counter_down(counter: typing.Counter[str], class_level: int) -> typing.Counter[str]:\n",
    "    \"\"\"\n",
    "    Merge the counters by granularity of the classes, f.i. merge all 5.2.X into 5.2.\n",
    "    \"\"\"\n",
    "    new_counter: typing.Counter[str] = Counter()\n",
    "\n",
    "    def simplify(original_rxn_class: str) -> str:\n",
    "        building_blocks = original_rxn_class.split('.')\n",
    "        return '.'.join(building_blocks[:class_level])\n",
    "\n",
    "    for key, value in counter.items():\n",
    "        new_counter[simplify(key)] += value\n",
    "\n",
    "    return new_counter"
   ]
  },
  {
   "cell_type": "code",
   "execution_count": null,
   "metadata": {},
   "outputs": [],
   "source": [
    "def get_into_pandas(class_level: int) -> pd.DataFrame:\n",
    "    \"\"\"\n",
    "    Get the counts into a pandas DataFrame.\n",
    "\n",
    "    Args:\n",
    "        class_level: What degree of fineness to keep: 1->5, 2->5.2, 3->5.2.8.\n",
    "    \"\"\"\n",
    "    s2a_counts = merge_counter_down(s2a_class_counts, class_level)\n",
    "    pis_counts = merge_counter_down(pis_class_counts, class_level)\n",
    "\n",
    "    all_classes = set(s2a_counts.keys()) | set(pis_counts.keys())\n",
    "\n",
    "    all_classes_sorted = sorted(all_classes, key=lambda x: tuple(int(k) for k in x.split('.')))\n",
    "\n",
    "    data = [\n",
    "        (rxn_class, pis_counts[rxn_class], s2a_counts[rxn_class])\n",
    "        for rxn_class in all_classes_sorted\n",
    "    ]\n",
    "\n",
    "    df = pd.DataFrame(data, columns=['reaction class', 'Count in Pistachio', 'Count in s2a'])\n",
    "    df['Frequency in Pistachio'] = df['Count in Pistachio'] / pis_total_count\n",
    "    df['Frequency in s2a'] = df['Count in s2a'] / s2a_total_count\n",
    "    return df"
   ]
  },
  {
   "cell_type": "markdown",
   "metadata": {},
   "source": [
    "### Get and print some of the datafrmes"
   ]
  },
  {
   "cell_type": "code",
   "execution_count": null,
   "metadata": {},
   "outputs": [],
   "source": [
    "df_name_rxn = get_into_pandas(3)\n",
    "df_category = get_into_pandas(2)\n",
    "df_superclass = get_into_pandas(1)"
   ]
  },
  {
   "cell_type": "code",
   "execution_count": null,
   "metadata": {},
   "outputs": [],
   "source": [
    "df_superclass"
   ]
  },
  {
   "cell_type": "code",
   "execution_count": null,
   "metadata": {},
   "outputs": [],
   "source": [
    "df_category"
   ]
  },
  {
   "cell_type": "code",
   "execution_count": null,
   "metadata": {},
   "outputs": [],
   "source": [
    "df_name_rxn"
   ]
  },
  {
   "cell_type": "markdown",
   "metadata": {
    "lines_to_next_cell": 2
   },
   "source": [
    "### Prepare the plot"
   ]
  },
  {
   "cell_type": "code",
   "execution_count": null,
   "metadata": {},
   "outputs": [],
   "source": [
    "def original_count_category(df_row) -> str:\n",
    "    count = df_row['Count in Pistachio']\n",
    "    assert count > 0\n",
    "    if count < 10:\n",
    "        return '1–9'\n",
    "    elif count < 100:\n",
    "        return '10–99'\n",
    "    elif count < 1000:\n",
    "        return '100–999'\n",
    "    else:\n",
    "        return '>1000'"
   ]
  },
  {
   "cell_type": "code",
   "execution_count": null,
   "metadata": {},
   "outputs": [],
   "source": [
    "def difference_category(df_row) -> str:\n",
    "    pis_freq = df_row['Frequency in Pistachio']\n",
    "    s2a_freq = df_row['Frequency in s2a']\n",
    "    assert pis_freq > 0\n",
    "\n",
    "    enrichment = s2a_freq / pis_freq\n",
    "    if s2a_freq == 0:\n",
    "        return '–100%'\n",
    "    elif enrichment < 0.5:\n",
    "        return '–100% to –50%'\n",
    "    elif enrichment < 0.75:\n",
    "        return '–50% to –25%'\n",
    "    elif enrichment < 1.25:\n",
    "        return '–25% to +25%'\n",
    "    elif enrichment < 1.50:\n",
    "        return '+25% to +50%'\n",
    "    else:\n",
    "        return '>+50%'"
   ]
  },
  {
   "cell_type": "code",
   "execution_count": null,
   "metadata": {},
   "outputs": [],
   "source": [
    "counts = ['1–9', '10–99', '100–999', '>1000']\n",
    "enrichments = ['–100%', '–100% to –50%', '–50% to –25%', '–25% to +25%', '+25% to +50%', '>+50%']"
   ]
  },
  {
   "cell_type": "code",
   "execution_count": null,
   "metadata": {},
   "outputs": [],
   "source": [
    "res: Dict[str, Dict[str, List[Any]]] = {}\n",
    "for c in counts:\n",
    "    res[c] = {}\n",
    "    for e in enrichments:\n",
    "        res[c][e] = []"
   ]
  },
  {
   "cell_type": "code",
   "execution_count": null,
   "metadata": {},
   "outputs": [],
   "source": [
    "for (idx, row) in df_name_rxn.iterrows():\n",
    "    res[original_count_category(row)][difference_category(row)].append(row['reaction class'])"
   ]
  },
  {
   "cell_type": "code",
   "execution_count": null,
   "metadata": {},
   "outputs": [],
   "source": [
    "m = np.zeros((len(counts), len(enrichments)))\n",
    "for c_index, c in enumerate(counts):\n",
    "    for e_index, e in enumerate(enrichments):\n",
    "        m[c_index, e_index] = len(res[c][e])"
   ]
  },
  {
   "cell_type": "code",
   "execution_count": null,
   "metadata": {},
   "outputs": [],
   "source": [
    "print('Total classes:', m.sum())\n",
    "print(m)"
   ]
  },
  {
   "cell_type": "code",
   "execution_count": null,
   "metadata": {},
   "outputs": [],
   "source": [
    "# among the classes of 100 or more, how many reduced frequency by more than 50%\n",
    "print(1 - m[2:4, 0:2].sum() / m[2:4, :].sum())"
   ]
  },
  {
   "cell_type": "code",
   "execution_count": null,
   "metadata": {},
   "outputs": [],
   "source": [
    "fig, ax = plt.subplots(1, 1, figsize=(10, 6))\n",
    "sns.heatmap(\n",
    "    m,\n",
    "    ax=ax,\n",
    "    annot=True,\n",
    "    fmt='g',\n",
    "    cmap='Blues',\n",
    "    vmin=0,\n",
    "    vmax=100,\n",
    "    xticklabels=enrichments,\n",
    "    yticklabels=counts\n",
    ")\n",
    "plt.yticks(rotation=0)\n",
    "plt.xticks(rotation=0)\n",
    "plt.tight_layout()\n",
    "ax.set_xlabel('Change in reaction class prevalence')\n",
    "ax.set_ylabel('Original count')\n",
    "plt.tight_layout()\n",
    "plt.savefig('/tmp/class_prevalence.pdf')"
   ]
  }
 ],
 "metadata": {
  "jupytext": {
   "encoding": "# -*- coding: utf-8 -*-",
   "formats": "py,ipynb"
  },
  "kernelspec": {
   "display_name": "Python 3",
   "language": "python",
   "name": "python3"
  },
  "language_info": {
   "codemirror_mode": {
    "name": "ipython",
    "version": 3
   },
   "file_extension": ".py",
   "mimetype": "text/x-python",
   "name": "python",
   "nbconvert_exporter": "python",
   "pygments_lexer": "ipython3",
   "version": "3.6.12"
  }
 },
 "nbformat": 4,
 "nbformat_minor": 4
}
