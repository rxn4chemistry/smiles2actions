{
 "cells": [
  {
   "cell_type": "code",
   "execution_count": null,
   "metadata": {},
   "outputs": [],
   "source": [
    "import os\n",
    "from collections import Counter\n",
    "from pathlib import Path\n",
    "from typing import Iterable, List, Tuple"
   ]
  },
  {
   "cell_type": "code",
   "execution_count": null,
   "metadata": {},
   "outputs": [],
   "source": [
    "import matplotlib.pyplot as plt\n",
    "import numpy as np"
   ]
  },
  {
   "cell_type": "code",
   "execution_count": null,
   "metadata": {},
   "outputs": [],
   "source": [
    "from smiles2actions.utils import load_list_from_file, colorblind_color_palette"
   ]
  },
  {
   "cell_type": "markdown",
   "metadata": {},
   "source": [
    "# Data distribution according to reaction classes"
   ]
  },
  {
   "cell_type": "markdown",
   "metadata": {},
   "source": [
    "### Load the data"
   ]
  },
  {
   "cell_type": "code",
   "execution_count": null,
   "metadata": {},
   "outputs": [],
   "source": [
    "s2a_dir = Path(os.environ['S2A_PAPER_DATA_DIR'])"
   ]
  },
  {
   "cell_type": "code",
   "execution_count": null,
   "metadata": {},
   "outputs": [],
   "source": [
    "original_classes = load_list_from_file(s2a_dir / 'rxn_classes_original_data.txt')\n",
    "dataset_classes = load_list_from_file(s2a_dir / 'rxn_classes_unique.txt')\n",
    "dataset_classes_with_duplicates = load_list_from_file(s2a_dir / 'rxn_classes_all.txt')\n",
    "train_classes = load_list_from_file(s2a_dir / 'rxn_classes_train.txt')\n",
    "valid_classes = load_list_from_file(s2a_dir / 'rxn_classes_valid.txt')\n",
    "test_classes = load_list_from_file(s2a_dir / 'rxn_classes_test.txt')"
   ]
  },
  {
   "cell_type": "markdown",
   "metadata": {
    "lines_to_next_cell": 2
   },
   "source": [
    "### Plot superclass distribution"
   ]
  },
  {
   "cell_type": "code",
   "execution_count": null,
   "metadata": {},
   "outputs": [],
   "source": [
    "def get_superclass(rxn_class: str) -> str:\n",
    "    \"\"\"Get the superclass (\"3\") from the full reaction class (\"3.2.45\").\"\"\"\n",
    "    return rxn_class.split('.')[0]"
   ]
  },
  {
   "cell_type": "code",
   "execution_count": null,
   "metadata": {},
   "outputs": [],
   "source": [
    "def show_classes_distribution(\n",
    "    reaction_classes: List[Tuple[str, List[str]]], filename: str\n",
    ") -> None:\n",
    "    set_names = [v[0] for v in reaction_classes]\n",
    "    main_classes = [[get_superclass(rxn_class) for rxn_class in v[1]] for v in reaction_classes]\n",
    "\n",
    "    # ### Plot the superclass distribution\n",
    "\n",
    "    ind = np.arange(0, 13)\n",
    "    fig, ax = plt.subplots(nrows=1, ncols=1, figsize=(10, 5))\n",
    "    ax.hist(\n",
    "        main_classes,\n",
    "        ind,\n",
    "        label=set_names,\n",
    "        color=colorblind_color_palette(len(main_classes)),\n",
    "        density=True\n",
    "    )\n",
    "    ax.legend(loc='upper right')\n",
    "    ax.set_xlabel('Reaction superclass')\n",
    "    ax.set_ylabel('Frequency')\n",
    "    ax.set_xticks(ind + 0.5)\n",
    "    ax.set_xticklabels(ind)\n",
    "    ax.margins(x=0.02)\n",
    "    fig.tight_layout()\n",
    "    plt.savefig(filename)"
   ]
  },
  {
   "cell_type": "markdown",
   "metadata": {},
   "source": [
    "First, all the data including the different splits."
   ]
  },
  {
   "cell_type": "code",
   "execution_count": null,
   "metadata": {},
   "outputs": [],
   "source": [
    "classes_to_show = [\n",
    "    ('Original reaction data', original_classes),\n",
    "    ('All reactions (with duplicates)', dataset_classes_with_duplicates),\n",
    "    ('All reactions (without duplicates)', dataset_classes),\n",
    "    ('Train split', train_classes),\n",
    "    ('Validation split', valid_classes),\n",
    "    ('Test split', test_classes),\n",
    "]"
   ]
  },
  {
   "cell_type": "code",
   "execution_count": null,
   "metadata": {},
   "outputs": [],
   "source": [
    "show_classes_distribution(classes_to_show, '/tmp/classes_distribution')"
   ]
  },
  {
   "cell_type": "markdown",
   "metadata": {},
   "source": [
    "Second, the 500 reactions assessed by the chemist. They are the 500 first reactions in the test set."
   ]
  },
  {
   "cell_type": "code",
   "execution_count": null,
   "metadata": {},
   "outputs": [],
   "source": [
    "classes_to_show = [\n",
    "    ('All reactions (without duplicates)', dataset_classes),\n",
    "    ('Test split', test_classes),\n",
    "    ('Subset of 500 reactions', test_classes[:500]),\n",
    "]"
   ]
  },
  {
   "cell_type": "code",
   "execution_count": null,
   "metadata": {},
   "outputs": [],
   "source": [
    "show_classes_distribution(classes_to_show, '/tmp/classes_distribution_500.pdf')"
   ]
  },
  {
   "cell_type": "markdown",
   "metadata": {},
   "source": [
    "### Classes present or absent from splits\n",
    "\n",
    "To check what classes are missing from the test split or other splits."
   ]
  },
  {
   "cell_type": "code",
   "execution_count": null,
   "metadata": {},
   "outputs": [],
   "source": [
    "all_unique_classes = set(original_classes)\n",
    "print('All classes', len(all_unique_classes))\n",
    "classes_in_dataset = set(dataset_classes)\n",
    "counter_in_dataset = Counter(dataset_classes)\n",
    "print('Classes in dataset', len(classes_in_dataset))"
   ]
  },
  {
   "cell_type": "code",
   "execution_count": null,
   "metadata": {},
   "outputs": [],
   "source": [
    "def info_not_in_split(classes_for_subset: Iterable[str]) -> None:\n",
    "    not_in_split = classes_in_dataset - set(classes_for_subset)\n",
    "    counts = []\n",
    "    for rxn_class in not_in_split:\n",
    "        count = counter_in_dataset[rxn_class]\n",
    "        print(f'{rxn_class} - Original count in dataset of {len(dataset_classes)}: {count}')\n",
    "        counts.append(count)\n",
    "    print('Number of missing classes', len(counts))\n",
    "    print(f'Average count in the original dataset of {len(dataset_classes)}: {np.mean(counts)}')"
   ]
  },
  {
   "cell_type": "code",
   "execution_count": null,
   "metadata": {},
   "outputs": [],
   "source": [
    "print('Train')\n",
    "info_not_in_split(train_classes)"
   ]
  },
  {
   "cell_type": "code",
   "execution_count": null,
   "metadata": {},
   "outputs": [],
   "source": [
    "print('Valid')\n",
    "info_not_in_split(valid_classes)"
   ]
  },
  {
   "cell_type": "code",
   "execution_count": null,
   "metadata": {},
   "outputs": [],
   "source": [
    "print('Test')\n",
    "info_not_in_split(test_classes)"
   ]
  }
 ],
 "metadata": {
  "jupytext": {
   "cell_metadata_filter": "-all",
   "formats": "py,ipynb"
  },
  "kernelspec": {
   "display_name": "Python 3",
   "language": "python",
   "name": "python3"
  },
  "language_info": {
   "codemirror_mode": {
    "name": "ipython",
    "version": 3
   },
   "file_extension": ".py",
   "mimetype": "text/x-python",
   "name": "python",
   "nbconvert_exporter": "python",
   "pygments_lexer": "ipython3",
   "version": "3.6.12"
  }
 },
 "nbformat": 4,
 "nbformat_minor": 4
}
